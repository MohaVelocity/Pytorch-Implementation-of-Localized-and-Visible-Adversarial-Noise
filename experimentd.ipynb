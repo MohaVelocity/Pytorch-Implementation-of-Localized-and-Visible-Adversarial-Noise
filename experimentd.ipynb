{
 "cells": [
  {
   "cell_type": "code",
   "execution_count": 1,
   "id": "712cb5d1",
   "metadata": {},
   "outputs": [
    {
     "name": "stderr",
     "output_type": "stream",
     "text": [
      "C:\\Users\\moham\\anaconda3\\lib\\site-packages\\torchvision\\io\\image.py:13: UserWarning: Failed to load image Python extension: '[WinError 127] The specified procedure could not be found'If you don't plan on using image functionality from `torchvision.io`, you can ignore this warning. Otherwise, there might be something wrong with your environment. Did you have `libjpeg` or `libpng` installed before building `torchvision` from source?\n",
      "  warn(\n"
     ]
    }
   ],
   "source": [
    "import numpy as np\n",
    "import datetime\n",
    "import os\n",
    "import glob\n",
    "from PIL import Image\n",
    "import matplotlib.pyplot as plt\n",
    "from matplotlib.widgets import Slider\n",
    "from ipywidgets import interact\n",
    "\n",
    "import torch\n",
    "from torch import nn\n",
    "from torch.utils.data import DataLoader\n",
    "from torch.utils.data import Dataset\n",
    "from torchvision import datasets, transforms, models\n",
    "import torch.nn.functional as F"
   ]
  },
  {
   "cell_type": "code",
   "execution_count": 2,
   "id": "b55e9f3a",
   "metadata": {},
   "outputs": [
    {
     "name": "stdout",
     "output_type": "stream",
     "text": [
      "Training on device cuda.\n"
     ]
    }
   ],
   "source": [
    "device = (torch.device('cuda') if torch.cuda.is_available()\n",
    "          else torch.device('cpu'))\n",
    "print(f\"Training on device {device}.\")"
   ]
  },
  {
   "cell_type": "code",
   "execution_count": 3,
   "id": "e7fe953f",
   "metadata": {},
   "outputs": [
    {
     "data": {
      "text/plain": [
       "'\\npreprocess = transforms.Compose([\\n    transforms.Resize(299),\\n    transforms.CenterCrop(299),\\n    transforms.ToTensor(),\\n])\\n'"
      ]
     },
     "execution_count": 3,
     "metadata": {},
     "output_type": "execute_result"
    }
   ],
   "source": [
    "model = models.inception_v3(weights=models.Inception_V3_Weights.DEFAULT).to(device=device)\n",
    "model.eval()\n",
    "\n",
    "\n",
    "preprocess = transforms.Compose([\n",
    "    transforms.Resize(299),\n",
    "    transforms.CenterCrop(299),\n",
    "    transforms.ToTensor(),\n",
    "    transforms.Normalize(mean=[0.485, 0.456, 0.406], std=[0.229, 0.224, 0.225]),\n",
    "])\n",
    "\n",
    "\"\"\"\n",
    "preprocess = transforms.Compose([\n",
    "    transforms.Resize(299),\n",
    "    transforms.CenterCrop(299),\n",
    "    transforms.ToTensor(),\n",
    "])\n",
    "\"\"\""
   ]
  },
  {
   "cell_type": "code",
   "execution_count": 4,
   "id": "db6134bd",
   "metadata": {},
   "outputs": [
    {
     "name": "stdout",
     "output_type": "stream",
     "text": [
      "images\\bald_eagle.jpg\n",
      "images\\boa_constrictor.jpg\n",
      "images\\box_turtle.jpg\n",
      "images\\brown_bear.jpg\n",
      "images\\cock.jpg\n",
      "images\\Samoyed.jpg\n",
      "images\\spotted_salamander.jpg\n",
      "images\\starfish.jpg\n",
      "images\\tiger.jpg\n",
      "images\\tiger_shark.jpg\n"
     ]
    }
   ],
   "source": [
    "image_paths = glob.glob(\"images\\*\")\n",
    "images = []\n",
    "preprocessed_images = []\n",
    "labels = [294,292]\n",
    "for path in image_paths:\n",
    "    print(path)\n",
    "    image = Image.open(path)\n",
    "    preprocessed_image = preprocess(image).unsqueeze(0).to(device=device)\n",
    "    \n",
    "    images.append(image)\n",
    "    preprocessed_images.append(preprocessed_image)"
   ]
  },
  {
   "cell_type": "code",
   "execution_count": 5,
   "id": "b3e83973",
   "metadata": {},
   "outputs": [
    {
     "name": "stdout",
     "output_type": "stream",
     "text": [
      "tensor(22, device='cuda:0')\n",
      "0.9023818969726562\n",
      "tensor(61, device='cuda:0')\n",
      "0.9911372661590576\n",
      "tensor(37, device='cuda:0')\n",
      "0.9482685923576355\n",
      "tensor(294, device='cuda:0')\n",
      "0.9613251686096191\n",
      "tensor(7, device='cuda:0')\n",
      "0.7233016490936279\n",
      "tensor(258, device='cuda:0')\n",
      "0.8836224675178528\n",
      "tensor(28, device='cuda:0')\n",
      "0.9221763014793396\n",
      "tensor(327, device='cuda:0')\n",
      "0.9993489384651184\n",
      "tensor(292, device='cuda:0')\n",
      "0.8158342242240906\n",
      "tensor(3, device='cuda:0')\n",
      "0.9781191349029541\n"
     ]
    }
   ],
   "source": [
    "for i in range(len(preprocessed_images)):\n",
    "    image_gpu = preprocessed_images[i].to(device=device)\n",
    "\n",
    "    with torch.no_grad():\n",
    "        output = model(image_gpu)\n",
    "    # Tensor of shape 1000, with confidence scores over ImageNet's 1000 classes\n",
    "    #print(output[0])\n",
    "    # The output has unnormalized scores. To get probabilities, you can run a softmax on it.\n",
    "    probabilities = torch.nn.functional.softmax(output[0], dim=0)\n",
    "\n",
    "    arg = probabilities.argmax()\n",
    "    print(arg)\n",
    "    print(probabilities[arg].item())\n",
    "\n"
   ]
  },
  {
   "cell_type": "code",
   "execution_count": 6,
   "id": "5bc6c234",
   "metadata": {},
   "outputs": [],
   "source": [
    "def manual_single_epoch(model,img,label,epsilon,device,patch_small,patch_corner,target,clamp=True,clamp_range=[0.0,1.0]):\n",
    "    \n",
    "    revert_train = False\n",
    "    if model.training:\n",
    "        revert_train = True\n",
    "        model.eval()\n",
    "        \n",
    "    patch_size = patch_small.shape[2]\n",
    "    \n",
    "    if patch_corner[0] + patch_size > img.shape[2] or patch_corner[1] + patch_size > img.shape[2]:\n",
    "        raise Exception(\"Patch exceeds the borders of the image\")\n",
    "    \n",
    "    model = model.to(device=device)\n",
    "    \n",
    "    x = img.to(device=device)\n",
    "    x.requires_grad = False\n",
    "\n",
    "    label_list = [label]\n",
    "    label_t = torch.tensor(label_list).to(device=device)\n",
    "        \n",
    "    h_bottom = patch_corner[0]\n",
    "    h_top = h_bottom + patch_size\n",
    "    \n",
    "    w_left = patch_corner[0]\n",
    "    w_right = w_left + patch_size\n",
    "    \n",
    "    n, c, h, w = x.shape\n",
    "    \n",
    "    patch = torch.zeros(x.shape)\n",
    "    mask = torch.zeros(x.shape)\n",
    "        \n",
    "    mask[:, :, h_bottom: h_top , w_left:w_right] = 1\n",
    "    \n",
    "    patch[:, : , h_bottom:h_top , w_left:w_right ] = patch_small\n",
    "    \n",
    "    patch = patch.to(device=device)\n",
    "    mask = mask.to(device=device)\n",
    "    \n",
    "    adv_x = torch.mul((1-mask),x) + torch.mul(mask,patch)\n",
    "    \n",
    "    target_list = [target]\n",
    "    target_t = torch.tensor(target_list).to(device=device)\n",
    "\n",
    "\n",
    "    adv_x.requires_grad = True\n",
    "\n",
    "    output = model(adv_x)\n",
    "            \n",
    "            \n",
    "    loss = F.cross_entropy(output, target_t) - F.cross_entropy(output, label_t)\n",
    "    loss.backward()\n",
    "\n",
    "    adv_grad = adv_x.grad.clone()\n",
    "    adv_x.grad.data.zero_()\n",
    "\n",
    "    patch -= adv_grad * epsilon\n",
    "\n",
    "\n",
    "    if clamp:\n",
    "        #adv_x = torch.clamp(adv_x, clamp_range[0], clamp_range[1])\n",
    "        patch = torch.clamp(patch, clamp_range[0], clamp_range[1])\n",
    "                \n",
    "                \n",
    "    if revert_train:\n",
    "        model.train()\n",
    "    \n",
    "    return loss.item(), patch[:,:,h_bottom:h_bottom+patch_size,w_left:w_left +patch_size]"
   ]
  },
  {
   "cell_type": "code",
   "execution_count": 7,
   "id": "b0223c45",
   "metadata": {},
   "outputs": [],
   "source": [
    "patch_size = 50\n",
    "patch_small = np.random.uniform(0.0, 1.0, (1, 3, patch_size, patch_size))\n",
    "patch_small = torch.from_numpy(patch_small)\n",
    "label = torch.tensor([294])"
   ]
  },
  {
   "cell_type": "code",
   "execution_count": 10,
   "id": "1b4f0a86",
   "metadata": {},
   "outputs": [],
   "source": [
    "label_list = [22,61,37,294,7,258,28,327,292,3]\n",
    "#labels = []\n",
    "#for i in range(len(labels_list)):\n",
    "#    labels.append(torch.tensor([labels_list[i]]))"
   ]
  },
  {
   "cell_type": "code",
   "execution_count": 12,
   "id": "e8ee3082",
   "metadata": {},
   "outputs": [
    {
     "name": "stdout",
     "output_type": "stream",
     "text": [
      "Average loss at epoch 100: -14.349076\n",
      "Average loss at epoch 200: -12.947602\n",
      "Average loss at epoch 300: -13.318799\n"
     ]
    }
   ],
   "source": [
    "epochs = 300\n",
    "epsilon = 0.5\n",
    "clamp_range = [-2,2]\n",
    "target = 855\n",
    "\n",
    "\n",
    "for i in range(epochs):\n",
    "    loss_cum = 0\n",
    "    for j in range(len(preprocessed_images)):\n",
    "        xcorner = np.random.randint(0,299-patch_size-1)\n",
    "        ycorner = np.random.randint(0,299-patch_size-1)\n",
    "        corner_cords = [xcorner,ycorner]\n",
    "        loss, patch_small = manual_single_epoch(model,preprocessed_images[j],label_list[j],epsilon,device,patch_small,\\\n",
    "        corner_cords,target,clamp=True,clamp_range=clamp_range)\n",
    "        loss_cum += loss\n",
    "        \n",
    "    if (i+1)%(epochs//10) == 0: \n",
    "        avg_loss = loss_cum/len(preprocessed_images)\n",
    "        print(\"Average loss at epoch {}: {:04f}\".format(i+1,avg_loss))"
   ]
  },
  {
   "cell_type": "code",
   "execution_count": 24,
   "id": "46bfef90-7a5d-4428-a310-17d6774407ac",
   "metadata": {},
   "outputs": [],
   "source": [
    "def apply_evaluate_patch(patch_small,model,img,patch_corner):\n",
    "\n",
    "    revert_train = False\n",
    "    if model.training:\n",
    "        revert_train = True\n",
    "        model.eval()\n",
    "        \n",
    "    patch_size = patch_small.shape[2]\n",
    "    \n",
    "    if patch_corner[0] + patch_size > img.shape[2] or patch_corner[1] + patch_size > img.shape[2]:\n",
    "        raise Exception(\"Patch exceeds the borders of the image\")\n",
    "    \n",
    "    model = model.to(device=device)\n",
    "    \n",
    "    x = img.to(device=device)\n",
    "    x.requires_grad = False\n",
    "\n",
    "    label_list = [label]\n",
    "    label_t = torch.tensor(label_list).to(device=device)\n",
    "        \n",
    "    h_bottom = patch_corner[0]\n",
    "    h_top = h_bottom + patch_size\n",
    "    \n",
    "    w_left = patch_corner[0]\n",
    "    w_right = w_left + patch_size\n",
    "    \n",
    "    n, c, h, w = x.shape\n",
    "    \n",
    "    patch = torch.zeros(x.shape)\n",
    "    mask = torch.zeros(x.shape)\n",
    "        \n",
    "    mask[:, :, h_bottom: h_top , w_left:w_right] = 1\n",
    "    \n",
    "    patch[:, : , h_bottom:h_top , w_left:w_right ] = patch_small\n",
    "    \n",
    "    patch = patch.to(device=device)\n",
    "    mask = mask.to(device=device)\n",
    "    \n",
    "    adv_x = torch.mul((1-mask),x) + torch.mul(mask,patch)\n",
    "    \n",
    "    target_list = [target]\n",
    "    target_t = torch.tensor(target_list).to(device=device)\n",
    "\n",
    "    adv_x.requires_grad = False\n",
    "\n",
    "    output = model(adv_x)\n",
    "\n",
    "    probabilities = torch.nn.functional.softmax(output[0], dim=0)\n",
    "    return probabilities"
   ]
  },
  {
   "cell_type": "code",
   "execution_count": 20,
   "id": "4be0a7d3-4752-4698-9fb1-fa101c9dfac4",
   "metadata": {},
   "outputs": [
    {
     "name": "stdout",
     "output_type": "stream",
     "text": [
      "tensor(855, device='cuda:0')\n",
      "0.9994193315505981\n",
      "tensor(855, device='cuda:0')\n",
      "0.9991175532341003\n",
      "tensor(855, device='cuda:0')\n",
      "0.9994131326675415\n",
      "tensor(855, device='cuda:0')\n",
      "0.998608410358429\n",
      "tensor(855, device='cuda:0')\n",
      "0.9979933500289917\n",
      "tensor(855, device='cuda:0')\n",
      "0.9997833371162415\n",
      "tensor(855, device='cuda:0')\n",
      "0.9923812747001648\n",
      "tensor(855, device='cuda:0')\n",
      "0.9981037378311157\n",
      "tensor(855, device='cuda:0')\n",
      "0.9907178282737732\n",
      "tensor(855, device='cuda:0')\n",
      "0.9995423555374146\n"
     ]
    }
   ],
   "source": [
    "for i in range(10):\n",
    "    result = apply_evaluate_patch(patch_small,model,preprocessed_images[i],[30,30])\n",
    "    probabilities = torch.nn.functional.softmax(result[0], dim=0)\n",
    "    arg = probabilities.argmax()\n",
    "    print(arg)\n",
    "    print(probabilities[arg].item())"
   ]
  },
  {
   "cell_type": "code",
   "execution_count": null,
   "id": "9f452df8-b1e3-405d-925c-b0c3a2dad681",
   "metadata": {},
   "outputs": [],
   "source": []
  },
  {
   "cell_type": "code",
   "execution_count": 24,
   "id": "7ba97882",
   "metadata": {},
   "outputs": [
    {
     "data": {
      "text/plain": [
       "<matplotlib.image.AxesImage at 0x1d807fbcb50>"
      ]
     },
     "execution_count": 24,
     "metadata": {},
     "output_type": "execute_result"
    },
    {
     "data": {
      "image/png": "[encoded data removed]",
      "text/plain": [
       "<Figure size 640x480 with 1 Axes>"
      ]
     },
     "metadata": {},
     "output_type": "display_data"
    }
   ],
   "source": [
    "transform = transforms.ToPILImage()\n",
    "img_test = transform(patch_small[0])\n",
    "plt.imshow(img_test)"
   ]
  },
  {
   "cell_type": "code",
   "execution_count": 20,
   "id": "1a60aa32",
   "metadata": {},
   "outputs": [],
   "source": [
    "image_gpu = preprocessed_images[0].to(device=device)\n",
    "\n",
    "with torch.no_grad():\n",
    "    output = model(image_gpu)\n",
    "# Tensor of shape 1000, with confidence scores over ImageNet's 1000 classes\n",
    "#print(output[0])\n",
    "# The output has unnormalized scores. To get probabilities, you can run a softmax on it.\n",
    "probabilities = torch.nn.functional.softmax(output[0], dim=0)"
   ]
  },
  {
   "cell_type": "code",
   "execution_count": 21,
   "id": "63a1a873",
   "metadata": {},
   "outputs": [
    {
     "name": "stdout",
     "output_type": "stream",
     "text": [
      "tensor(22, device='cuda:0')\n",
      "0.9023818969726562\n"
     ]
    }
   ],
   "source": [
    "arg = probabilities.argmax()\n",
    "print(arg)\n",
    "print(probabilities[arg].item())"
   ]
  },
  {
   "cell_type": "code",
   "execution_count": null,
   "id": "264e74fa",
   "metadata": {},
   "outputs": [],
   "source": []
  }
 ],
 "metadata": {
  "kernelspec": {
   "display_name": "Python 3 (ipykernel)",
   "language": "python",
   "name": "python3"
  },
  "language_info": {
   "codemirror_mode": {
    "name": "ipython",
    "version": 3
   },
   "file_extension": ".py",
   "mimetype": "text/x-python",
   "name": "python",
   "nbconvert_exporter": "python",
   "pygments_lexer": "ipython3",
   "version": "3.9.18"
  }
 },
 "nbformat": 4,
 "nbformat_minor": 5
}
